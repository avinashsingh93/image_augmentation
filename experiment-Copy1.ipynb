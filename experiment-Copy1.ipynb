{
 "cells": [
  {
   "cell_type": "markdown",
   "metadata": {},
   "source": [
    "# Self-Driving Car Engineer Nanodegree\n",
    "\n",
    "## Deep Learning\n",
    "\n",
    "## Project: Build a Traffic Sign Recognition Classifier\n",
    "\n",
    "In this notebook, a template is provided for you to implement your functionality in stages, which is required to successfully complete this project. If additional code is required that cannot be included in the notebook, be sure that the Python code is successfully imported and included in your submission if necessary. \n",
    "\n",
    "> **Note**: Once you have completed all of the code implementations, you need to finalize your work by exporting the iPython Notebook as an HTML document. Before exporting the notebook to html, all of the code cells need to have been run so that reviewers can see the final implementation and output. You can then export the notebook by using the menu above and navigating to  \\n\",\n",
    "    \"**File -> Download as -> HTML (.html)**. Include the finished document along with this notebook as your submission. \n",
    "\n",
    "In addition to implementing code, there is a writeup to complete. The writeup should be completed in a separate file, which can be either a markdown file or a pdf document. There is a [write up template](https://github.com/udacity/CarND-Traffic-Sign-Classifier-Project/blob/master/writeup_template.md) that can be used to guide the writing process. Completing the code template and writeup template will cover all of the [rubric points](https://review.udacity.com/#!/rubrics/481/view) for this project.\n",
    "\n",
    "The [rubric](https://review.udacity.com/#!/rubrics/481/view) contains \"Stand Out Suggestions\" for enhancing the project beyond the minimum requirements. The stand out suggestions are optional. If you decide to pursue the \"stand out suggestions\", you can include the code in this Ipython notebook and also discuss the results in the writeup file.\n",
    "\n",
    "\n",
    ">**Note:** Code and Markdown cells can be executed using the **Shift + Enter** keyboard shortcut. In addition, Markdown cells can be edited by typically double-clicking the cell to enter edit mode."
   ]
  },
  {
   "cell_type": "markdown",
   "metadata": {},
   "source": [
    "---\n",
    "## Step 0: Load The Data"
   ]
  },
  {
   "cell_type": "code",
   "execution_count": 1,
   "metadata": {},
   "outputs": [
    {
     "name": "stderr",
     "output_type": "stream",
     "text": [
      "/home/carnd/anaconda3/envs/carnd-term1/lib/python3.5/site-packages/sklearn/cross_validation.py:44: DeprecationWarning: This module was deprecated in version 0.18 in favor of the model_selection module into which all the refactored classes and functions are moved. Also note that the interface of the new CV iterators are different from that of this module. This module will be removed in 0.20.\n",
      "  \"This module will be removed in 0.20.\", DeprecationWarning)\n",
      "Using TensorFlow backend.\n"
     ]
    }
   ],
   "source": [
    "import numpy as np\n",
    "from skimage import io, color, exposure, transform\n",
    "from sklearn.cross_validation import train_test_split\n",
    "import os\n",
    "import glob\n",
    "import h5py\n",
    "\n",
    "from keras.preprocessing.image import ImageDataGenerator\n",
    "from keras.models import Sequential, model_from_json\n",
    "from keras.layers.core import Dense, Dropout, Activation, Flatten\n",
    "from keras.layers.convolutional import Conv2D\n",
    "from keras.layers.pooling import MaxPooling2D\n",
    "\n",
    "from keras.optimizers import SGD\n",
    "from keras.utils import np_utils\n",
    "from keras.callbacks import LearningRateScheduler, ModelCheckpoint\n",
    "from keras import backend as K\n",
    "\n",
    "from matplotlib import pyplot as plt\n",
    "%matplotlib inline\n",
    "\n",
    "NUM_CLASSES = 46\n",
    "IMG_SIZE = 32"
   ]
  },
  {
   "cell_type": "code",
   "execution_count": 2,
   "metadata": {},
   "outputs": [
    {
     "name": "stdout",
     "output_type": "stream",
     "text": [
      "['./picklefiles/t1_train.pickle']\n"
     ]
    }
   ],
   "source": [
    "import glob\n",
    "print(glob.glob(\"./picklefiles/*\"))"
   ]
  },
  {
   "cell_type": "code",
   "execution_count": 3,
   "metadata": {
    "collapsed": true
   },
   "outputs": [],
   "source": [
    "##ALL THE IMPORTS\n",
    "\n",
    "import pickle\n",
    "import random\n",
    "import numpy as np\n",
    "import csv\n",
    "import matplotlib.pyplot as plt\n",
    "from tensorflow.contrib.layers import flatten\n",
    "import tensorflow as tf\n",
    "from sklearn.utils import shuffle\n",
    "import os\n",
    "import cv2\n"
   ]
  },
  {
   "cell_type": "code",
   "execution_count": 4,
   "metadata": {},
   "outputs": [
    {
     "name": "stdout",
     "output_type": "stream",
     "text": [
      "training data loaded.\n"
     ]
    }
   ],
   "source": [
    "# Load pickled data\n",
    "\n",
    "\n",
    "# TODO: Fill this in based on where you saved the training and testing data\n",
    "\n",
    "training_file = './picklefiles/t1_train.pickle'\n",
    "print(\"training data loaded.\")\n",
    "\n",
    "\n",
    "with open(training_file, mode='rb') as f:\n",
    "    train = pickle.load(f)\n",
    "    \n",
    "       \n",
    "labels=train['labels']\n",
    "images=train['images']\n",
    "\n",
    "##Shuffle\n",
    "combined = list(zip(images, labels))\n",
    "random.shuffle(combined)\n",
    "\n",
    "images[:], labels[:] = zip(*combined)\n",
    "\n",
    "divide=int(len(images)*.20)\n",
    "\n",
    "##dividing 30% of data into validation dataset and rest to training\n",
    "y_valid=labels[:divide]\n",
    "X_valid=images[:divide]\n",
    "y_train=labels[divide:]\n",
    "X_train=images[divide:]"
   ]
  },
  {
   "cell_type": "markdown",
   "metadata": {},
   "source": [
    "---\n",
    "\n",
    "## Step 1: Dataset Summary & Exploration\n",
    "\n",
    "The pickled data is a dictionary with 4 key/value pairs:\n",
    "\n",
    "- `'features'` is a 4D array containing raw pixel data of the traffic sign images, (num examples, width, height, channels).\n",
    "- `'labels'` is a 1D array containing the label/class id of the traffic sign. The file `signnames.csv` contains id -> name mappings for each id.\n",
    "- `'sizes'` is a list containing tuples, (width, height) representing the original width and height the image.\n",
    "- `'coords'` is a list containing tuples, (x1, y1, x2, y2) representing coordinates of a bounding box around the sign in the image. **THESE COORDINATES ASSUME THE ORIGINAL IMAGE. THE PICKLED DATA CONTAINS RESIZED VERSIONS (32 by 32) OF THESE IMAGES**\n",
    "\n",
    "Complete the basic data summary below. Use python, numpy and/or pandas methods to calculate the data summary rather than hard coding the results. For example, the [pandas shape method](http://pandas.pydata.org/pandas-docs/stable/generated/pandas.DataFrame.shape.html) might be useful for calculating some of the summary results. "
   ]
  },
  {
   "cell_type": "markdown",
   "metadata": {},
   "source": [
    "### Provide a Basic Summary of the Data Set Using Python, Numpy and/or Pandas"
   ]
  },
  {
   "cell_type": "code",
   "execution_count": 5,
   "metadata": {},
   "outputs": [
    {
     "name": "stdout",
     "output_type": "stream",
     "text": [
      "Number of training examples = 35075\n",
      "Number of validation examples = 8768\n",
      "Number of classes = 46\n"
     ]
    }
   ],
   "source": [
    "### Replace each question mark with the appropriate value. \n",
    "### Use python, pandas or numpy methods rather than hard coding the results\n",
    "\n",
    "\n",
    "# TODO: Number of training examples\n",
    "n_train = len(X_train)\n",
    "\n",
    "# TODO: Number of validation examples\n",
    "n_validation = len(X_valid)\n",
    "\n",
    "# TODO: Number of testing examples.\n",
    "#n_test = len(X_test)\n",
    "\n",
    "# TODO: What's the shape of an traffic sign image?\n",
    "#image_shape =  X_train.shape[1:3]\n",
    "\n",
    "# TODO: How many unique classes/labels there are in the dataset.\n",
    "n_classes = len(set(y_train))\n",
    "\n",
    "print(\"Number of training examples =\", n_train)\n",
    "print(\"Number of validation examples =\", n_validation)\n",
    "#print(\"Number of testing examples =\", n_test)\n",
    "#print(\"Image data shape =\", image_shape)\n",
    "print(\"Number of classes =\", n_classes)"
   ]
  },
  {
   "cell_type": "markdown",
   "metadata": {},
   "source": [
    "### Include an exploratory visualization of the dataset"
   ]
  },
  {
   "cell_type": "markdown",
   "metadata": {},
   "source": [
    "Visualize the German Traffic Signs Dataset using the pickled file(s). This is open ended, suggestions include: plotting traffic sign images, plotting the count of each sign, etc. \n",
    "\n",
    "The [Matplotlib](http://matplotlib.org/) [examples](http://matplotlib.org/examples/index.html) and [gallery](http://matplotlib.org/gallery.html) pages are a great resource for doing visualizations in Python.\n",
    "\n",
    "**NOTE:** It's recommended you start with something simple first. If you wish to do more, come back to it after you've completed the rest of the sections. It can be interesting to look at the distribution of classes in the training, validation and test set. Is the distribution the same? Are there more examples of some classes than others?"
   ]
  },
  {
   "cell_type": "code",
   "execution_count": 6,
   "metadata": {
    "scrolled": true
   },
   "outputs": [
    {
     "data": {
      "image/png": "[encoded data removed]",
      "text/plain": [
       "<matplotlib.figure.Figure at 0x7f1edc0ff8d0>"
      ]
     },
     "metadata": {},
     "output_type": "display_data"
    }
   ],
   "source": [
    "\n",
    "%matplotlib inline\n",
    "\n",
    "#index = random.randint(0, len(X_train))\n",
    "#image = X_train[index].squeeze()\n",
    "\n",
    "#plt.figure(figsize=(1,1))\n",
    "#plt.imshow(image)\n",
    "#print(y_train[index])\n",
    "\n",
    "# show image of 40 random data points\n",
    "fig, axs = plt.subplots(10,5, figsize=(15, 6))\n",
    "fig.subplots_adjust(hspace = .2, wspace=.001)\n",
    "axs = axs.ravel()\n",
    "for i in range(50):\n",
    "    index = random.randint(0, len(X_train))\n",
    "    image = X_train[index].squeeze()\n",
    "    axs[i].axis('off')\n",
    "    axs[i].imshow(image)\n",
    "    axs[i].set_title(y_train[index])"
   ]
  },
  {
   "cell_type": "code",
   "execution_count": 7,
   "metadata": {},
   "outputs": [
    {
     "data": {
      "text/plain": [
       "<function matplotlib.pyplot.show>"
      ]
     },
     "execution_count": 7,
     "metadata": {},
     "output_type": "execute_result"
    },
    {
     "data": {
      "image/png": "[encoded data removed]",
      "text/plain": [
       "<matplotlib.figure.Figure at 0x7f1e65a1a748>"
      ]
     },
     "metadata": {},
     "output_type": "display_data"
    }
   ],
   "source": [
    "\n",
    "signs_train = [[ind for ind, sign_id in enumerate(y_train) if sign_id == i] for i in range(n_classes)]\n",
    "\n",
    "plt.bar(range(n_classes), [len(s) for s in signs_train], align='center')\n",
    "plt.xticks(range(0, n_classes, 5))\n",
    "plt.title('Distribution of the Training Set')\n",
    "plt.show"
   ]
  },
  {
   "cell_type": "markdown",
   "metadata": {},
   "source": [
    "----\n",
    "\n",
    "## Step 2: Design and Test a Model Architecture\n",
    "\n",
    "Design and implement a deep learning model that learns to recognize traffic signs. Train and test your model on the [German Traffic Sign Dataset](http://benchmark.ini.rub.de/?section=gtsrb&subsection=dataset).\n",
    "\n",
    "The LeNet-5 implementation shown in the [classroom](https://classroom.udacity.com/nanodegrees/nd013/parts/fbf77062-5703-404e-b60c-95b78b2f3f9e/modules/6df7ae49-c61c-4bb2-a23e-6527e69209ec/lessons/601ae704-1035-4287-8b11-e2c2716217ad/concepts/d4aca031-508f-4e0b-b493-e7b706120f81) at the end of the CNN lesson is a solid starting point. You'll have to change the number of classes and possibly the preprocessing, but aside from that it's plug and play! \n",
    "\n",
    "With the LeNet-5 solution from the lecture, you should expect a validation set accuracy of about 0.89. To meet specifications, the validation set accuracy will need to be at least 0.93. It is possible to get an even higher accuracy, but 0.93 is the minimum for a successful project submission. \n",
    "\n",
    "There are various aspects to consider when thinking about this problem:\n",
    "\n",
    "- Neural network architecture (is the network over or underfitting?)\n",
    "- Play around preprocessing techniques (normalization, rgb to grayscale, etc)\n",
    "- Number of examples per label (some have more than others).\n",
    "- Generate fake data.\n",
    "\n",
    "Here is an example of a [published baseline model on this problem](http://yann.lecun.com/exdb/publis/pdf/sermanet-ijcnn-11.pdf). It's not required to be familiar with the approach used in the paper but, it's good practice to try to read papers like these."
   ]
  },
  {
   "cell_type": "markdown",
   "metadata": {},
   "source": [
    "### Pre-process the Data Set (normalization, grayscale, etc.)"
   ]
  },
  {
   "cell_type": "markdown",
   "metadata": {},
   "source": [
    "Minimally, the image data should be normalized so that the data has mean zero and equal variance. For image data, `(pixel - 128)/ 128` is a quick way to approximately normalize the data and can be used in this project. \n",
    "\n",
    "Other pre-processing steps are optional. You can try different techniques to see if it improves performance. \n",
    "\n",
    "Use the code cell (or multiple code cells, if necessary) to implement the first step of your project."
   ]
  },
  {
   "cell_type": "code",
   "execution_count": 8,
   "metadata": {
    "collapsed": true
   },
   "outputs": [],
   "source": [
    "### Preprocess the data here. It is required to normalize the data. Other  steps could include \n",
    "\n",
    "##NORMALIZATION##\n",
    "\n",
    "def normalize_data(data):\n",
    "    data_norm = (data - data.mean()) / (np.max(data) - np.min(data))\n",
    "    return data_norm\n",
    "\n"
   ]
  },
  {
   "cell_type": "code",
   "execution_count": 9,
   "metadata": {},
   "outputs": [
    {
     "name": "stdout",
     "output_type": "stream",
     "text": [
      "<class 'numpy.ndarray'>\n"
     ]
    }
   ],
   "source": [
    "### converting to grayscale, etc.\n",
    "print(type(X_train))\n",
    "def gray(X_train):\n",
    "    X_gray = 0.299*X_train[:,:,:,0] + 0.587*X_train[:,:,:,1] + 0.114*X_train[:,:,:,2]\n",
    "    X_gray = X_gray.reshape(X_gray.shape + (1,))\n",
    "    X_gray = (X_gray - 128.0) / 128.0\n",
    "    return X_gray\n",
    "\n",
    "\n",
    "X_train=gray(X_train)\n",
    "X_valid=gray(X_valid)\n",
    "#X_test=gray(X_test)\n",
    "X_train=normalize_data(X_train)\n",
    "X_valid= normalize_data(X_valid)\n",
    "#X_test=normalize_data(X_test)\n",
    "#print(X_train.shape)"
   ]
  },
  {
   "cell_type": "code",
   "execution_count": 10,
   "metadata": {},
   "outputs": [
    {
     "name": "stdout",
     "output_type": "stream",
     "text": [
      "<class 'numpy.ndarray'>\n"
     ]
    }
   ],
   "source": [
    "print(type(X_train))"
   ]
  },
  {
   "cell_type": "code",
   "execution_count": 11,
   "metadata": {},
   "outputs": [
    {
     "name": "stdout",
     "output_type": "stream",
     "text": [
      "26\n"
     ]
    },
    {
     "data": {
      "image/png": "[encoded data removed]",
      "text/plain": [
       "<matplotlib.figure.Figure at 0x7f1e631b2668>"
      ]
     },
     "metadata": {},
     "output_type": "display_data"
    }
   ],
   "source": [
    "# Visualizations afte normalization and grayscale of input training data.\n",
    "\n",
    "%matplotlib inline\n",
    "\n",
    "index = random.randint(0, len(X_train))\n",
    "image = X_train[index].squeeze()\n",
    "\n",
    "\n",
    "plt.figure(figsize=(1,1))\n",
    "plt.imshow(image)\n",
    "print(y_train[index])\n"
   ]
  },
  {
   "cell_type": "markdown",
   "metadata": {},
   "source": [
    "### Model Architecture"
   ]
  },
  {
   "cell_type": "code",
   "execution_count": 11,
   "metadata": {
    "collapsed": true
   },
   "outputs": [],
   "source": [
    "### Define your architecture here.\n",
    "### Feel free to use as many code cells as needed."
   ]
  },
  {
   "cell_type": "code",
   "execution_count": 46,
   "metadata": {},
   "outputs": [],
   "source": [
    "def cnn_model():\n",
    "    model = Sequential()\n",
    "    model.add(Conv2D(32,3,3,activation='linear',input_shape=(32,32,1)))\n",
    "    \n",
    "    model.add(LeakyReLU(alpha=0.1))\n",
    "    model.add(MaxPooling2D((2, 2),border_mode='same'))\n",
    "    model.add(Dropout(0.25))\n",
    "    model.add(Conv2D(64,3,3,activation='linear',border_mode='same'))\n",
    "    model.add(Conv2D(64,3,3,activation='linear',border_mode='same'))\n",
    "    model.add(LeakyReLU(alpha=0.1))                  \n",
    "    model.add(MaxPooling2D(pool_size=(2, 2),border_mode='same'))\n",
    "    model.add(Dropout(0.25))\n",
    "    model.add(Conv2D(128,3,3,activation='linear',border_mode='same'))\n",
    "    model.add(LeakyReLU(alpha=0.1))\n",
    "    model.add(MaxPooling2D(pool_size=(2,2),border_mode='same'))\n",
    "    model.add(Dropout(0.25))\n",
    "    model.add(Conv2D(128,3,3,activation='linear',border_mode='same'))\n",
    "    model.add(LeakyReLU(alpha=0.1))\n",
    "    model.add(MaxPooling2D(pool_size=(2,2),border_mode='same'))\n",
    "    model.add(Dropout(0.25))\n",
    "    model.add(Flatten())\n",
    "    model.add(Dense(256,activation='linear'))\n",
    "    model.add(LeakyReLU(alpha=0.1))\n",
    "    model.add(Dense(46,activation='softmax'))\n",
    "    return model"
   ]
  },
  {
   "cell_type": "code",
   "execution_count": 47,
   "metadata": {},
   "outputs": [],
   "source": [
    "from keras.layers.advanced_activations import LeakyReLU\n",
    "\n",
    "model = cnn_model()"
   ]
  },
  {
   "cell_type": "code",
   "execution_count": 67,
   "metadata": {},
   "outputs": [],
   "source": [
    "from keras.utils.np_utils import to_categorical \n"
   ]
  },
  {
   "cell_type": "code",
   "execution_count": 72,
   "metadata": {},
   "outputs": [],
   "source": [
    "\n",
    "train_y_one_hot=to_categorical(y_train)#this function converts it into one hot vector\n",
    "valid_y_one_hot=to_categorical(y_valid)"
   ]
  },
  {
   "cell_type": "code",
   "execution_count": 74,
   "metadata": {},
   "outputs": [
    {
     "name": "stdout",
     "output_type": "stream",
     "text": [
      "Train on 35075 samples, validate on 8768 samples\n",
      "Epoch 1/30\n",
      "35075/35075 [==============================] - 21s - loss: 3.6187 - acc: 0.0842 - val_loss: 3.1254 - val_acc: 0.1795\n",
      "Epoch 2/30\n",
      "35075/35075 [==============================] - 19s - loss: 3.3088 - acc: 0.2202 - val_loss: 2.3944 - val_acc: 0.4760\n",
      "Epoch 3/30\n",
      "35075/35075 [==============================] - 19s - loss: 3.1206 - acc: 0.3121 - val_loss: 2.0583 - val_acc: 0.5906\n",
      "Epoch 4/30\n",
      "35075/35075 [==============================] - 19s - loss: 3.0294 - acc: 0.3442 - val_loss: 1.9334 - val_acc: 0.5935\n",
      "Epoch 5/30\n",
      "35075/35075 [==============================] - 19s - loss: 2.9763 - acc: 0.3591 - val_loss: 1.9542 - val_acc: 0.6210\n",
      "Epoch 6/30\n",
      "35075/35075 [==============================] - 19s - loss: 2.9420 - acc: 0.3688 - val_loss: 1.9568 - val_acc: 0.6583\n",
      "Epoch 7/30\n",
      "35075/35075 [==============================] - 19s - loss: 2.9119 - acc: 0.3742 - val_loss: 1.8662 - val_acc: 0.6631\n",
      "Epoch 8/30\n",
      "35075/35075 [==============================] - 19s - loss: 2.8943 - acc: 0.3779 - val_loss: 1.8536 - val_acc: 0.6670\n",
      "Epoch 9/30\n",
      "35075/35075 [==============================] - 19s - loss: 2.8770 - acc: 0.3814 - val_loss: 1.8705 - val_acc: 0.6850\n",
      "Epoch 10/30\n",
      "35075/35075 [==============================] - 19s - loss: 2.8609 - acc: 0.3807 - val_loss: 1.8318 - val_acc: 0.6648\n",
      "Epoch 11/30\n",
      "35075/35075 [==============================] - 19s - loss: 2.8451 - acc: 0.3839 - val_loss: 1.8116 - val_acc: 0.6858\n",
      "Epoch 12/30\n",
      "35075/35075 [==============================] - 19s - loss: 2.8348 - acc: 0.3849 - val_loss: 1.8901 - val_acc: 0.6857\n",
      "Epoch 13/30\n",
      "35075/35075 [==============================] - 19s - loss: 2.8239 - acc: 0.3868 - val_loss: 1.7182 - val_acc: 0.6946\n",
      "Epoch 14/30\n",
      "35075/35075 [==============================] - 19s - loss: 2.8119 - acc: 0.3868 - val_loss: 1.8142 - val_acc: 0.6860\n",
      "Epoch 15/30\n",
      "35075/35075 [==============================] - 19s - loss: 2.8037 - acc: 0.3870 - val_loss: 1.7505 - val_acc: 0.6804\n",
      "Epoch 16/30\n",
      "35075/35075 [==============================] - 19s - loss: 2.7887 - acc: 0.3886 - val_loss: 1.7802 - val_acc: 0.7010\n",
      "Epoch 17/30\n",
      "35075/35075 [==============================] - 19s - loss: 2.7826 - acc: 0.3885 - val_loss: 1.7581 - val_acc: 0.6969\n",
      "Epoch 18/30\n",
      "35075/35075 [==============================] - 19s - loss: 2.7751 - acc: 0.3883 - val_loss: 1.6867 - val_acc: 0.6813\n",
      "Epoch 19/30\n",
      "35075/35075 [==============================] - 19s - loss: 2.7654 - acc: 0.3901 - val_loss: 1.7796 - val_acc: 0.6905\n",
      "Epoch 20/30\n",
      "35075/35075 [==============================] - 19s - loss: 2.7547 - acc: 0.3918 - val_loss: 1.7532 - val_acc: 0.6816\n",
      "Epoch 21/30\n",
      "35075/35075 [==============================] - 19s - loss: 2.7407 - acc: 0.3918 - val_loss: 1.7716 - val_acc: 0.6832\n",
      "Epoch 22/30\n",
      "35075/35075 [==============================] - 19s - loss: 2.7357 - acc: 0.3918 - val_loss: 1.7442 - val_acc: 0.6826\n",
      "Epoch 23/30\n",
      "35075/35075 [==============================] - 19s - loss: 2.7308 - acc: 0.3904 - val_loss: 1.7452 - val_acc: 0.6731\n",
      "Epoch 24/30\n",
      "35075/35075 [==============================] - 19s - loss: 2.7267 - acc: 0.3917 - val_loss: 1.7375 - val_acc: 0.6710\n",
      "Epoch 25/30\n",
      "35075/35075 [==============================] - 19s - loss: 2.7175 - acc: 0.3922 - val_loss: 1.7948 - val_acc: 0.6641\n",
      "Epoch 26/30\n",
      "35075/35075 [==============================] - 19s - loss: 2.7084 - acc: 0.3913 - val_loss: 1.7718 - val_acc: 0.6704\n",
      "Epoch 27/30\n",
      "35075/35075 [==============================] - 19s - loss: 2.7071 - acc: 0.3926 - val_loss: 1.7463 - val_acc: 0.6764\n",
      "Epoch 28/30\n",
      "35075/35075 [==============================] - 19s - loss: 2.6946 - acc: 0.3938 - val_loss: 1.8015 - val_acc: 0.6651\n",
      "Epoch 29/30\n",
      "35075/35075 [==============================] - 19s - loss: 2.6935 - acc: 0.3910 - val_loss: 1.8000 - val_acc: 0.6608\n",
      "Epoch 30/30\n",
      "35075/35075 [==============================] - 19s - loss: 2.6821 - acc: 0.3920 - val_loss: 1.7752 - val_acc: 0.6540\n"
     ]
    }
   ],
   "source": [
    "\n",
    "\n",
    "import keras\n",
    "model.compile(loss='categorical_crossentropy',optimizer=keras.optimizers.Adam(),metrics=['accuracy'])\n",
    "model_train=model.fit(X_train,train_y_one_hot,batch_size=64,nb_epoch=30,verbose=1,validation_data=(X_valid,valid_y_one_hot))"
   ]
  },
  {
   "cell_type": "code",
   "execution_count": 75,
   "metadata": {},
   "outputs": [],
   "source": [
    "model.save_weights(\"model.h5\")"
   ]
  },
  {
   "cell_type": "code",
   "execution_count": null,
   "metadata": {
    "collapsed": true
   },
   "outputs": [],
   "source": []
  },
  {
   "cell_type": "code",
   "execution_count": null,
   "metadata": {
    "collapsed": true
   },
   "outputs": [],
   "source": []
  },
  {
   "cell_type": "code",
   "execution_count": null,
   "metadata": {
    "collapsed": true
   },
   "outputs": [],
   "source": []
  },
  {
   "cell_type": "code",
   "execution_count": null,
   "metadata": {
    "collapsed": true
   },
   "outputs": [],
   "source": []
  },
  {
   "cell_type": "code",
   "execution_count": null,
   "metadata": {
    "collapsed": true
   },
   "outputs": [],
   "source": []
  },
  {
   "cell_type": "code",
   "execution_count": 12,
   "metadata": {
    "collapsed": true
   },
   "outputs": [],
   "source": [
    "##LENET ARCHITECTURE.\n",
    "\n",
    "\n",
    "def TrafficSignClassifier(x):    \n",
    "    # Arguments used for tf.truncated_normal, randomly defines variables for the weights and biases for each layer\n",
    "    mu = 0\n",
    "    sigma = 0.1\n",
    "    \n",
    "    \n",
    "    #======================================================================================\n",
    "    \n",
    "    # Layer 1: Convolutional. Input = 32x32x1. Output = 28x28x16.\n",
    "    conv1_W = tf.Variable(tf.truncated_normal(shape=(5, 5, 1, 16), mean = mu, stddev = sigma))\n",
    "    conv1_b = tf.Variable(tf.zeros(16))\n",
    "    conv1   = tf.nn.conv2d(x, conv1_W, strides=[1, 1, 1, 1], padding='VALID') + conv1_b\n",
    "\n",
    "    # : Activation and dropout\n",
    "    conv1=tf.nn.dropout(tf.nn.relu(conv1), keep_prob)\n",
    "\n",
    "   #======================================================================================\n",
    "\n",
    "\n",
    "   #======================================================================================\n",
    "    \n",
    "    # Layer 2: Convolutional. Input = 28x28x16. Output = 24x24x32.\n",
    "    conv2_W = tf.Variable(tf.truncated_normal(shape=(5, 5, 16, 32), mean = mu, stddev = sigma))\n",
    "    conv2_b = tf.Variable(tf.zeros(32))\n",
    "    conv2   = tf.nn.conv2d(conv1, conv2_W, strides=[1, 1, 1, 1], padding='VALID') + conv2_b\n",
    "\n",
    "    # : Activation and dropout\n",
    "    conv2=tf.nn.dropout(tf.nn.relu(conv2), keep_prob)\n",
    "    \n",
    "     # : Pooling. Input = 24x24x32. Output = 12x12x32.\n",
    "    conv2= tf.nn.dropout(tf.nn.max_pool(conv2, ksize=[1, 2, 2, 1], strides=[1, 2, 2, 1], padding='VALID'), keep_prob)\n",
    "    \n",
    "   #======================================================================================\n",
    "    \n",
    "        \n",
    "   #======================================================================================\n",
    "    \n",
    "    # : Layer 3: Convolutional.Input = 12x12x32 Output = 8x8x64.\n",
    "    conv3_W = tf.Variable(tf.truncated_normal(shape=(5, 5, 32, 64), mean = mu, stddev = sigma))\n",
    "    conv3_b = tf.Variable(tf.zeros(64))\n",
    "    conv3   = tf.nn.conv2d(conv2, conv3_W, strides=[1, 1, 1, 1], padding='VALID') + conv3_b\n",
    "    \n",
    "    # : Activation.and dropout\n",
    "    \n",
    "    conv3=tf.nn.dropout(tf.nn.relu(conv3), keep_prob)\n",
    "    \n",
    "    \n",
    "    \n",
    "   #======================================================================================    \n",
    "   \n",
    "    # : Flatten Layer 4. Input = 8x8x64. Output = 4096.\n",
    "    fc0   = flatten(conv3)\n",
    "    \n",
    "    ##=======================================\n",
    "    \n",
    "    # : Layer 5: Fully Connected. Input = 4096. Output = 240.\n",
    "    fc1_W = tf.Variable(tf.truncated_normal(shape=(4096, 2048), mean = mu, stddev = sigma))\n",
    "    fc1_b = tf.Variable(tf.zeros(2048))\n",
    "    fc1   = tf.matmul(fc0, fc1_W) + fc1_b\n",
    "    \n",
    "    # : Activation and dropout\n",
    "    #fc1    = tf.nn.relu(fc1)\n",
    "    fc1    =tf.nn.dropout(tf.nn.relu(fc1), keep_prob)\n",
    "\n",
    "    \n",
    "    ##======================================\n",
    "    \n",
    "    # : Layer 6: Fully Connected. Input = 2048. Output = 1024.\n",
    "    fc2_W = tf.Variable(tf.truncated_normal(shape=(2048, 1024), mean = mu, stddev = sigma))\n",
    "    fc2_b = tf.Variable(tf.zeros(1024))\n",
    "    fc2   = tf.matmul(fc1, fc2_W) + fc2_b\n",
    "    \n",
    "    \n",
    "    ##======================================\n",
    "    \n",
    "    # : Layer 7: Fully Connected. Input = 1024. Output = 512.\n",
    "    fc3_W  = tf.Variable(tf.truncated_normal(shape=(1024, 512), mean = mu, stddev = sigma))\n",
    "    fc3_b  = tf.Variable(tf.zeros(512))\n",
    "    fc3    = tf.matmul(fc2, fc3_W) + fc3_b\n",
    "    \n",
    "    # : Activation and dropout\n",
    "    #fc2    = tf.nn.relu(fc2)\n",
    "    fc3    = tf.nn.dropout(tf.nn.relu(fc3), keep_prob)\n",
    "\n",
    "    ##======================================\n",
    "    # : Layer 8: Fully Connected. Input = 512. Output = 256.\n",
    "    fc4_W  = tf.Variable(tf.truncated_normal(shape=(512,256), mean = mu, stddev = sigma))\n",
    "    fc4_b  = tf.Variable(tf.zeros(256))\n",
    "    fc4 = tf.matmul(fc3, fc4_W) + fc4_b\n",
    "    \n",
    "    ##======================================\n",
    "     # : Layer 9: Fully Connected. Input = 256. Output = 46.\n",
    "    fc5_W  = tf.Variable(tf.truncated_normal(shape=(256, 46), mean = mu, stddev = sigma))\n",
    "    fc5_b  = tf.Variable(tf.zeros(46))\n",
    "    logits = tf.matmul(fc4, fc5_W) + fc5_b\n",
    "    \n",
    "    return logits"
   ]
  },
  {
   "cell_type": "markdown",
   "metadata": {},
   "source": [
    "### Train, Validate and Test the Model"
   ]
  },
  {
   "cell_type": "markdown",
   "metadata": {},
   "source": [
    "A validation set can be used to assess how well the model is performing. A low accuracy on the training and validation\n",
    "sets imply underfitting. A high accuracy on the training set but low accuracy on the validation set implies overfitting."
   ]
  },
  {
   "cell_type": "code",
   "execution_count": 16,
   "metadata": {
    "collapsed": true
   },
   "outputs": [],
   "source": [
    "### Train your model here.\n",
    "\n",
    "##FEATURES AND LABLES\n",
    "\n",
    "x = tf.placeholder(tf.float32, (None, 32, 32, 1))\n",
    "y = tf.placeholder(tf.int32, (None))\n",
    "keep_prob = tf.placeholder(tf.float32)\n",
    "one_hot_y = tf.one_hot(y, 46)"
   ]
  },
  {
   "cell_type": "code",
   "execution_count": 17,
   "metadata": {
    "collapsed": true,
    "scrolled": true
   },
   "outputs": [],
   "source": [
    "\n",
    "X_train, y_train = shuffle(X_train, y_train)\n",
    "\n",
    "\n",
    "EPOCHS = 30\n",
    "BATCH_SIZE = 128\n"
   ]
  },
  {
   "cell_type": "code",
   "execution_count": 15,
   "metadata": {
    "collapsed": true
   },
   "outputs": [],
   "source": [
    "### Calculate and report the accuracy on the training and validation set.\n",
    "\n",
    "keep_prob2 =  tf.placeholder(tf.float32)\n",
    "\n",
    "##TRAINING PIPELINE\n",
    "rate = 0.001\n",
    "\n",
    "logits = TrafficSignClassifier(x)\n",
    "cross_entropy = tf.nn.softmax_cross_entropy_with_logits(labels=one_hot_y, logits=logits)\n",
    "loss_operation = tf.reduce_mean(cross_entropy)\n",
    "optimizer = tf.train.AdamOptimizer(learning_rate = rate)\n",
    "training_operation = optimizer.minimize(loss_operation)\n"
   ]
  },
  {
   "cell_type": "code",
   "execution_count": 16,
   "metadata": {
    "collapsed": true
   },
   "outputs": [],
   "source": [
    "### Once a final model architecture is selected, \n",
    "\n",
    "\n",
    "##MODEL EVALUATION\n",
    "\n",
    "correct_prediction = tf.equal(tf.argmax(logits, 1), tf.argmax(one_hot_y, 1))\n",
    "accuracy_operation = tf.reduce_mean(tf.cast(correct_prediction, tf.float32))\n",
    "saver = tf.train.Saver()\n",
    "\n",
    "\n",
    "def evaluate(X_data, y_data):\n",
    "    num_examples = len(X_data)\n",
    "    total_accuracy = 0\n",
    "    total_loss=0\n",
    "    sess = tf.get_default_session()\n",
    "    for offset in range(0, num_examples, BATCH_SIZE):\n",
    "        batch_x, batch_y = X_data[offset:offset+BATCH_SIZE], y_data[offset:offset+BATCH_SIZE]\n",
    "        accuracy,loss = sess.run([accuracy_operation,loss_operation], feed_dict={x: batch_x, y: batch_y,keep_prob:1.0})\n",
    "        total_accuracy += (accuracy * len(batch_x))\n",
    "        total_loss += (loss * len(batch_x))\n",
    "    return total_accuracy / num_examples, total_loss / num_examples"
   ]
  },
  {
   "cell_type": "code",
   "execution_count": 17,
   "metadata": {
    "collapsed": true
   },
   "outputs": [],
   "source": [
    "## Reshaping validation set for testing\n",
    "#X_valid = X_valid.reshape(X_valid.reshape + (1,))\n",
    "#print(X_valid.shape)"
   ]
  },
  {
   "cell_type": "code",
   "execution_count": 18,
   "metadata": {},
   "outputs": [
    {
     "name": "stdout",
     "output_type": "stream",
     "text": [
      "Training...\n",
      "\n",
      "EPOCH 1 ...\n",
      "Validation Accuracy = 0.047\n",
      "Training Accuracy = 0.042\n",
      "\n",
      "EPOCH 2 ...\n",
      "Validation Accuracy = 0.059\n",
      "Training Accuracy = 0.056\n",
      "\n",
      "EPOCH 3 ...\n",
      "Validation Accuracy = 0.139\n",
      "Training Accuracy = 0.115\n",
      "\n",
      "EPOCH 4 ...\n",
      "Validation Accuracy = 0.235\n",
      "Training Accuracy = 0.189\n",
      "\n",
      "EPOCH 5 ...\n",
      "Validation Accuracy = 0.364\n",
      "Training Accuracy = 0.270\n",
      "\n",
      "EPOCH 6 ...\n",
      "Validation Accuracy = 0.391\n",
      "Training Accuracy = 0.285\n",
      "\n",
      "EPOCH 7 ...\n",
      "Validation Accuracy = 0.475\n",
      "Training Accuracy = 0.317\n",
      "\n",
      "EPOCH 8 ...\n",
      "Validation Accuracy = 0.514\n",
      "Training Accuracy = 0.340\n",
      "\n",
      "EPOCH 9 ...\n",
      "Validation Accuracy = 0.499\n",
      "Training Accuracy = 0.334\n",
      "\n",
      "EPOCH 10 ...\n",
      "Validation Accuracy = 0.546\n",
      "Training Accuracy = 0.356\n",
      "\n",
      "EPOCH 11 ...\n",
      "Validation Accuracy = 0.540\n",
      "Training Accuracy = 0.354\n",
      "\n",
      "EPOCH 12 ...\n",
      "Validation Accuracy = 0.562\n",
      "Training Accuracy = 0.360\n",
      "\n",
      "EPOCH 13 ...\n",
      "Validation Accuracy = 0.576\n",
      "Training Accuracy = 0.366\n",
      "\n",
      "EPOCH 14 ...\n",
      "Validation Accuracy = 0.608\n",
      "Training Accuracy = 0.378\n",
      "\n",
      "EPOCH 15 ...\n",
      "Validation Accuracy = 0.589\n",
      "Training Accuracy = 0.384\n",
      "\n",
      "EPOCH 16 ...\n",
      "Validation Accuracy = 0.622\n",
      "Training Accuracy = 0.392\n",
      "\n",
      "EPOCH 17 ...\n",
      "Validation Accuracy = 0.574\n",
      "Training Accuracy = 0.377\n",
      "\n",
      "EPOCH 18 ...\n",
      "Validation Accuracy = 0.614\n",
      "Training Accuracy = 0.392\n",
      "\n",
      "EPOCH 19 ...\n",
      "Validation Accuracy = 0.629\n",
      "Training Accuracy = 0.401\n",
      "\n",
      "EPOCH 20 ...\n",
      "Validation Accuracy = 0.630\n",
      "Training Accuracy = 0.404\n",
      "\n",
      "EPOCH 21 ...\n",
      "Validation Accuracy = 0.624\n",
      "Training Accuracy = 0.410\n",
      "\n",
      "EPOCH 22 ...\n",
      "Validation Accuracy = 0.626\n",
      "Training Accuracy = 0.414\n",
      "\n",
      "EPOCH 23 ...\n",
      "Validation Accuracy = 0.602\n",
      "Training Accuracy = 0.410\n",
      "\n",
      "EPOCH 24 ...\n",
      "Validation Accuracy = 0.605\n",
      "Training Accuracy = 0.414\n",
      "\n",
      "EPOCH 25 ...\n",
      "Validation Accuracy = 0.630\n",
      "Training Accuracy = 0.420\n",
      "\n",
      "EPOCH 26 ...\n",
      "Validation Accuracy = 0.605\n",
      "Training Accuracy = 0.408\n",
      "\n",
      "EPOCH 27 ...\n",
      "Validation Accuracy = 0.599\n",
      "Training Accuracy = 0.423\n",
      "\n",
      "EPOCH 28 ...\n",
      "Validation Accuracy = 0.601\n",
      "Training Accuracy = 0.429\n",
      "\n",
      "EPOCH 29 ...\n",
      "Validation Accuracy = 0.585\n",
      "Training Accuracy = 0.432\n",
      "\n",
      "EPOCH 30 ...\n",
      "Validation Accuracy = 0.592\n",
      "Training Accuracy = 0.430\n",
      "\n",
      "Model saved\n"
     ]
    }
   ],
   "source": [
    "### the accuracy on the test set should be calculated and reported as well.\n",
    "\n",
    "\n",
    "\n",
    "###TRAINING THE MODEL...\n",
    "\n",
    "with tf.Session() as sess:\n",
    "    sess.run(tf.global_variables_initializer())\n",
    "    num_examples = len(X_train)\n",
    "    loss_history = {\"train\":[],\"valid\":[]}\n",
    "    print(\"Training...\")\n",
    "    print()\n",
    "    for i in range(EPOCHS):\n",
    "        X_train, y_train = shuffle(X_train, y_train)\n",
    "        for offset in range(0, num_examples, BATCH_SIZE):\n",
    "            end = offset + BATCH_SIZE\n",
    "            batch_x, batch_y = X_train[offset:end], y_train[offset:end]\n",
    "            sess.run(training_operation, feed_dict={x: batch_x, y: batch_y,keep_prob:0.8})\n",
    "            \n",
    "        #validation_accuracy = evaluate(X_valid, y_valid)\n",
    "        (validation_accuracy, validation_loss) = evaluate(X_valid, y_valid)\n",
    "        (training_accuracy, training_loss) = evaluate(X_train, y_train)\n",
    "        loss_history[\"valid\"].append(validation_loss)\n",
    "        loss_history[\"train\"].append(training_loss)\n",
    "        \n",
    "        \n",
    "        print(\"EPOCH {} ...\".format(i+1))\n",
    "        print(\"Validation Accuracy = {:.3f}\".format(validation_accuracy))\n",
    "        print(\"Training Accuracy = {:.3f}\".format(training_accuracy))\n",
    "        print()\n",
    "        \n",
    "    saver.save(sess, './lenet111')\n",
    "    print(\"Model saved\")"
   ]
  },
  {
   "cell_type": "code",
   "execution_count": 19,
   "metadata": {},
   "outputs": [
    {
     "data": {
      "text/plain": [
       "<matplotlib.legend.Legend at 0x7f22e9dc35c0>"
      ]
     },
     "execution_count": 19,
     "metadata": {},
     "output_type": "execute_result"
    },
    {
     "data": {
      "image/png": "[encoded data removed]",
      "text/plain": [
       "<matplotlib.figure.Figure at 0x7f22e5a21048>"
      ]
     },
     "metadata": {},
     "output_type": "display_data"
    }
   ],
   "source": [
    "\n",
    "\n",
    "loss_plt = plt.subplot(2,1,1)\n",
    "loss_plt.set_title(\"Loss Curve\")\n",
    "loss_plt.plot(loss_history[\"train\"], \"r\", label=\"Training Loss\")\n",
    "loss_plt.plot(loss_history[\"valid\"], \"b\", label=\"Validation Loss\")\n",
    "loss_plt.set_xlim([0, EPOCHS])\n",
    "loss_plt.legend(loc=4)\n",
    "\n",
    "\n"
   ]
  },
  {
   "cell_type": "code",
   "execution_count": 20,
   "metadata": {},
   "outputs": [
    {
     "ename": "NameError",
     "evalue": "name 'X_test' is not defined",
     "output_type": "error",
     "traceback": [
      "\u001b[0;31m---------------------------------------------------------------------------\u001b[0m",
      "\u001b[0;31mNameError\u001b[0m                                 Traceback (most recent call last)",
      "\u001b[0;32m<ipython-input-20-c4c2a9de0bcb>\u001b[0m in \u001b[0;36m<module>\u001b[0;34m()\u001b[0m\n\u001b[1;32m      3\u001b[0m     \u001b[0msaver\u001b[0m\u001b[0;34m.\u001b[0m\u001b[0mrestore\u001b[0m\u001b[0;34m(\u001b[0m\u001b[0msess\u001b[0m\u001b[0;34m,\u001b[0m \u001b[0mtf\u001b[0m\u001b[0;34m.\u001b[0m\u001b[0mtrain\u001b[0m\u001b[0;34m.\u001b[0m\u001b[0mlatest_checkpoint\u001b[0m\u001b[0;34m(\u001b[0m\u001b[0;34m'.'\u001b[0m\u001b[0;34m)\u001b[0m\u001b[0;34m)\u001b[0m\u001b[0;34m\u001b[0m\u001b[0m\n\u001b[1;32m      4\u001b[0m \u001b[0;34m\u001b[0m\u001b[0m\n\u001b[0;32m----> 5\u001b[0;31m     \u001b[0mtest_accuracy\u001b[0m \u001b[0;34m=\u001b[0m \u001b[0mevaluate\u001b[0m\u001b[0;34m(\u001b[0m\u001b[0mX_test\u001b[0m\u001b[0;34m,\u001b[0m \u001b[0my_test\u001b[0m\u001b[0;34m)\u001b[0m\u001b[0;34m\u001b[0m\u001b[0m\n\u001b[0m\u001b[1;32m      6\u001b[0m     \u001b[0mprint\u001b[0m\u001b[0;34m(\u001b[0m\u001b[0;34m\"      Test set accuracy = {:.3f}\"\u001b[0m\u001b[0;34m.\u001b[0m\u001b[0mformat\u001b[0m\u001b[0;34m(\u001b[0m\u001b[0mtest_accuracy\u001b[0m\u001b[0;34m[\u001b[0m\u001b[0;36m0\u001b[0m\u001b[0;34m]\u001b[0m\u001b[0;34m)\u001b[0m\u001b[0;34m)\u001b[0m\u001b[0;34m\u001b[0m\u001b[0m\n\u001b[1;32m      7\u001b[0m \u001b[0;34m\u001b[0m\u001b[0m\n",
      "\u001b[0;31mNameError\u001b[0m: name 'X_test' is not defined"
     ]
    }
   ],
   "source": [
    "### Feel free to use as many code cells as needed.\n",
    "with tf.Session() as sess:\n",
    "    saver.restore(sess, tf.train.latest_checkpoint('.'))\n",
    "\n",
    "    test_accuracy = evaluate(X_test, y_test)\n",
    "    print(\"      Test set accuracy = {:.3f}\".format(test_accuracy[0]))\n",
    "    \n"
   ]
  },
  {
   "cell_type": "code",
   "execution_count": null,
   "metadata": {
    "collapsed": true
   },
   "outputs": [],
   "source": []
  },
  {
   "cell_type": "markdown",
   "metadata": {},
   "source": [
    "---\n",
    "\n",
    "## Step 3: Test a Model on New Images\n",
    "\n",
    "To give yourself more insight into how your model is working, download at least five pictures of German traffic signs from the web and use your model to predict the traffic sign type.\n",
    "\n",
    "You may find `signnames.csv` useful as it contains mappings from the class id (integer) to the actual sign name."
   ]
  },
  {
   "cell_type": "markdown",
   "metadata": {},
   "source": [
    "### Load and Output the Images"
   ]
  },
  {
   "cell_type": "code",
   "execution_count": 21,
   "metadata": {},
   "outputs": [
    {
     "ename": "FileNotFoundError",
     "evalue": "[Errno 2] No such file or directory: './images/'",
     "output_type": "error",
     "traceback": [
      "\u001b[0;31m---------------------------------------------------------------------------\u001b[0m",
      "\u001b[0;31mFileNotFoundError\u001b[0m                         Traceback (most recent call last)",
      "\u001b[0;32m<ipython-input-21-8ffe83eae361>\u001b[0m in \u001b[0;36m<module>\u001b[0;34m()\u001b[0m\n\u001b[1;32m      2\u001b[0m \u001b[0;31m#Loading the image from the \"new_images\" folder\u001b[0m\u001b[0;34m\u001b[0m\u001b[0;34m\u001b[0m\u001b[0m\n\u001b[1;32m      3\u001b[0m \u001b[0mimages\u001b[0m \u001b[0;34m=\u001b[0m \u001b[0;34m[\u001b[0m\u001b[0;34m]\u001b[0m\u001b[0;34m\u001b[0m\u001b[0m\n\u001b[0;32m----> 4\u001b[0;31m \u001b[0;32mfor\u001b[0m \u001b[0mfilename\u001b[0m \u001b[0;32min\u001b[0m \u001b[0mos\u001b[0m\u001b[0;34m.\u001b[0m\u001b[0mlistdir\u001b[0m\u001b[0;34m(\u001b[0m\u001b[0;34m'./images/'\u001b[0m\u001b[0;34m)\u001b[0m\u001b[0;34m:\u001b[0m\u001b[0;34m\u001b[0m\u001b[0m\n\u001b[0m\u001b[1;32m      5\u001b[0m     \u001b[0mimg\u001b[0m \u001b[0;34m=\u001b[0m \u001b[0mplt\u001b[0m\u001b[0;34m.\u001b[0m\u001b[0mimread\u001b[0m\u001b[0;34m(\u001b[0m\u001b[0mos\u001b[0m\u001b[0;34m.\u001b[0m\u001b[0mpath\u001b[0m\u001b[0;34m.\u001b[0m\u001b[0mjoin\u001b[0m\u001b[0;34m(\u001b[0m\u001b[0;34m'images'\u001b[0m\u001b[0;34m,\u001b[0m\u001b[0mfilename\u001b[0m\u001b[0;34m)\u001b[0m\u001b[0;34m)\u001b[0m\u001b[0;34m\u001b[0m\u001b[0m\n\u001b[1;32m      6\u001b[0m     \u001b[0;32mif\u001b[0m \u001b[0mimg\u001b[0m \u001b[0;32mis\u001b[0m \u001b[0;32mnot\u001b[0m \u001b[0;32mNone\u001b[0m\u001b[0;34m:\u001b[0m\u001b[0;34m\u001b[0m\u001b[0m\n",
      "\u001b[0;31mFileNotFoundError\u001b[0m: [Errno 2] No such file or directory: './images/'"
     ]
    }
   ],
   "source": [
    "### Load the images and plot them here.\n",
    "#Loading the image from the \"new_images\" folder\n",
    "images = []\n",
    "for filename in os.listdir('./images/'):\n",
    "    img = plt.imread(os.path.join('images',filename))\n",
    "    if img is not None:\n",
    "        img = cv2.resize(img,(32,32))  #Resize the image to the required dimensions\n",
    "        images.append(img)\n",
    "y_test = [0,0,0,52,0,70]\n",
    "\n",
    "\n",
    "for i in range(1, len(images)+1):\n",
    "    #plt.imshow(images[i-1])\n",
    "    plt.show()\n",
    "\n",
    "    \n",
    "images=np.array(images)\n",
    "\n",
    "images=gray(images)\n",
    "images=normalize_data(images)\n",
    "\n",
    "with tf.Session() as sess:\n",
    "    saver.restore(sess, tf.train.latest_checkpoint('.'))\n",
    "    accuracy = evaluate(images, y_test)\n",
    "    \n",
    "    #print(\"Test Accuracy = {:.3f}\".format(accuracy[0]))\n",
    "### Feel free to use as many code cells as needed."
   ]
  },
  {
   "cell_type": "code",
   "execution_count": null,
   "metadata": {
    "collapsed": true
   },
   "outputs": [],
   "source": []
  },
  {
   "cell_type": "markdown",
   "metadata": {},
   "source": [
    "### Predict the Sign Type for Each Image and Analyze Performance"
   ]
  },
  {
   "cell_type": "code",
   "execution_count": null,
   "metadata": {
    "collapsed": true
   },
   "outputs": [],
   "source": [
    "### Run the predictions here and use the model to output the prediction for each image.\n",
    "### Make sure to pre-process the images with the same pre-processing pipeline used earlier.\n",
    "### Feel free to use as many code cells as needed.\n",
    "### Calculate the accuracy for these 5 new images. \n",
    "### For example, if the model predicted 1 out of 5 signs correctly, it's 20% accurate on these new images.\n",
    "\n",
    "signmap = {}\n",
    "with open('signnames.csv', 'r') as csvfile:\n",
    "    reader = csv.reader(csvfile, delimiter=',')\n",
    "    for row in reader:\n",
    "        signmap[row[0]]=row[1]\n",
    "\n",
    "with tf.Session() as sess:\n",
    "    saver.restore(sess,tf.train.latest_checkpoint('.'))\n",
    "    res = sess.run(tf.nn.softmax(logits),feed_dict={x:images,keep_prob:1})\n",
    "    print(\"Prob -> Sign\")\n",
    "    for item in res:\n",
    "        out = [i for i in item.flatten()]\n",
    "        print(max(out),\"->\", signmap[str(out.index(max(out)))])"
   ]
  },
  {
   "cell_type": "markdown",
   "metadata": {},
   "source": [
    "### Output Top 5 Softmax Probabilities For Each Image Found on the Web"
   ]
  },
  {
   "cell_type": "markdown",
   "metadata": {},
   "source": [
    "For each of the new images, print out the model's softmax probabilities to show the **certainty** of the model's predictions (limit the output to the top 5 probabilities for each image). [`tf.nn.top_k`](https://www.tensorflow.org/versions/r0.12/api_docs/python/nn.html#top_k) could prove helpful here. \n",
    "\n",
    "The example below demonstrates how tf.nn.top_k can be used to find the top k predictions for each image.\n",
    "\n",
    "`tf.nn.top_k` will return the values and indices (class ids) of the top k predictions. So if k=3, for each sign, it'll return the 3 largest probabilities (out of a possible 43) and the correspoding class ids.\n",
    "\n",
    "Take this numpy array as an example. The values in the array represent predictions. The array contains softmax probabilities for five candidate images with six possible classes. `tf.nn.top_k` is used to choose the three classes with the highest probability:\n",
    "\n",
    "```\n",
    "# (5, 6) array\n",
    "a = np.array([[ 0.24879643,  0.07032244,  0.12641572,  0.34763842,  0.07893497,\n",
    "         0.12789202],\n",
    "       [ 0.28086119,  0.27569815,  0.08594638,  0.0178669 ,  0.18063401,\n",
    "         0.15899337],\n",
    "       [ 0.26076848,  0.23664738,  0.08020603,  0.07001922,  0.1134371 ,\n",
    "         0.23892179],\n",
    "       [ 0.11943333,  0.29198961,  0.02605103,  0.26234032,  0.1351348 ,\n",
    "         0.16505091],\n",
    "       [ 0.09561176,  0.34396535,  0.0643941 ,  0.16240774,  0.24206137,\n",
    "         0.09155967]])\n",
    "```\n",
    "\n",
    "Running it through `sess.run(tf.nn.top_k(tf.constant(a), k=3))` produces:\n",
    "\n",
    "```\n",
    "TopKV2(values=array([[ 0.34763842,  0.24879643,  0.12789202],\n",
    "       [ 0.28086119,  0.27569815,  0.18063401],\n",
    "       [ 0.26076848,  0.23892179,  0.23664738],\n",
    "       [ 0.29198961,  0.26234032,  0.16505091],\n",
    "       [ 0.34396535,  0.24206137,  0.16240774]]), indices=array([[3, 0, 5],\n",
    "       [0, 1, 4],\n",
    "       [0, 5, 1],\n",
    "       [1, 3, 5],\n",
    "       [1, 4, 3]], dtype=int32))\n",
    "```\n",
    "\n",
    "Looking just at the first row we get `[ 0.34763842,  0.24879643,  0.12789202]`, you can confirm these are the 3 largest probabilities in `a`. You'll also notice `[3, 0, 5]` are the corresponding indices."
   ]
  },
  {
   "cell_type": "code",
   "execution_count": null,
   "metadata": {
    "collapsed": true
   },
   "outputs": [],
   "source": [
    "### Print out the top five softmax probabilities for the predictions on the German traffic sign images found on the web. \n",
    "\n",
    "with tf.Session() as sess:\n",
    "    saver.restore(sess, tf.train.latest_checkpoint('.'))\n",
    "    softmax1 = tf.nn.softmax(logits)\n",
    "    results = sess.run(softmax1, feed_dict={x: images, y:y_test,keep_prob: 1.0})\n",
    "    print(sess.run(tf.nn.top_k(results, k=5)))\n",
    "### For example, if the model predicted 1 out of 5 signs correctly, it's 20% accurate on these new images.\n",
    "\n",
    "\n",
    "### Feel free to use as many code cells as needed."
   ]
  },
  {
   "cell_type": "markdown",
   "metadata": {},
   "source": [
    "### Project Writeup\n",
    "\n",
    "Once you have completed the code implementation, document your results in a project writeup using this [template](https://github.com/udacity/CarND-Traffic-Sign-Classifier-Project/blob/master/writeup_template.md) as a guide. The writeup can be in a markdown or pdf file. "
   ]
  },
  {
   "cell_type": "markdown",
   "metadata": {},
   "source": [
    "> **Note**: Once you have completed all of the code implementations and successfully answered each question above, you may finalize your work by exporting the iPython Notebook as an HTML document. You can do this by using the menu above and navigating to  \\n\",\n",
    "    \"**File -> Download as -> HTML (.html)**. Include the finished document along with this notebook as your submission."
   ]
  },
  {
   "cell_type": "markdown",
   "metadata": {},
   "source": [
    "---\n",
    "\n",
    "## Step 4 (Optional): Visualize the Neural Network's State with Test Images\n",
    "\n",
    " This Section is not required to complete but acts as an additional excersise for understaning the output of a neural network's weights. While neural networks can be a great learning device they are often referred to as a black box. We can understand what the weights of a neural network look like better by plotting their feature maps. After successfully training your neural network you can see what it's feature maps look like by plotting the output of the network's weight layers in response to a test stimuli image. From these plotted feature maps, it's possible to see what characteristics of an image the network finds interesting. For a sign, maybe the inner network feature maps react with high activation to the sign's boundary outline or to the contrast in the sign's painted symbol.\n",
    "\n",
    " Provided for you below is the function code that allows you to get the visualization output of any tensorflow weight layer you want. The inputs to the function should be a stimuli image, one used during training or a new one you provided, and then the tensorflow variable name that represents the layer's state during the training process, for instance if you wanted to see what the [LeNet lab's](https://classroom.udacity.com/nanodegrees/nd013/parts/fbf77062-5703-404e-b60c-95b78b2f3f9e/modules/6df7ae49-c61c-4bb2-a23e-6527e69209ec/lessons/601ae704-1035-4287-8b11-e2c2716217ad/concepts/d4aca031-508f-4e0b-b493-e7b706120f81) feature maps looked like for it's second convolutional layer you could enter conv2 as the tf_activation variable.\n",
    "\n",
    "For an example of what feature map outputs look like, check out NVIDIA's results in their paper [End-to-End Deep Learning for Self-Driving Cars](https://devblogs.nvidia.com/parallelforall/deep-learning-self-driving-cars/) in the section Visualization of internal CNN State. NVIDIA was able to show that their network's inner weights had high activations to road boundary lines by comparing feature maps from an image with a clear path to one without. Try experimenting with a similar test to show that your trained network's weights are looking for interesting features, whether it's looking at differences in feature maps from images with or without a sign, or even what feature maps look like in a trained network vs a completely untrained one on the same sign image.\n",
    "\n",
    "<figure>\n",
    " <img src=\"visualize_cnn.png\" width=\"380\" alt=\"Combined Image\" />\n",
    " <figcaption>\n",
    " <p></p> \n",
    " <p style=\"text-align: center;\"> Your output should look something like this (above)</p> \n",
    " </figcaption>\n",
    "</figure>\n",
    " <p></p> \n"
   ]
  },
  {
   "cell_type": "code",
   "execution_count": null,
   "metadata": {
    "collapsed": true
   },
   "outputs": [],
   "source": [
    "### Visualize your network's feature maps here.\n",
    "### Feel free to use as many code cells as needed.\n",
    "\n",
    "# image_input: the test image being fed into the network to produce the feature maps\n",
    "# tf_activation: should be a tf variable name used during your training procedure that represents the calculated state of a specific weight layer\n",
    "# activation_min/max: can be used to view the activation contrast in more detail, by default matplot sets min and max to the actual min and max values of the output\n",
    "# plt_num: used to plot out multiple different weight feature map sets on the same block, just extend the plt number for each new feature map entry\n",
    "\n",
    "def outputFeatureMap(image_input, tf_activation, activation_min=-1, activation_max=-1 ,plt_num=1):\n",
    "    # Here make sure to preprocess your image_input in a way your network expects\n",
    "    # with size, normalization, ect if needed\n",
    "    # image_input =\n",
    "    # Note: x should be the same name as your network's tensorflow data placeholder variable\n",
    "    # If you get an error tf_activation is not defined it may be having trouble accessing the variable from inside a function\n",
    "    activation = tf_activation.eval(session=sess,feed_dict={x : image_input})\n",
    "    featuremaps = activation.shape[3]\n",
    "    plt.figure(plt_num, figsize=(15,15))\n",
    "    for featuremap in range(featuremaps):\n",
    "        plt.subplot(6,8, featuremap+1) # sets the number of feature maps to show on each row and column\n",
    "        plt.title('FeatureMap ' + str(featuremap)) # displays the feature map number\n",
    "        if activation_min != -1 & activation_max != -1:\n",
    "            plt.imshow(activation[0,:,:, featuremap], interpolation=\"nearest\", vmin =activation_min, vmax=activation_max, cmap=\"gray\")\n",
    "        elif activation_max != -1:\n",
    "            plt.imshow(activation[0,:,:, featuremap], interpolation=\"nearest\", vmax=activation_max, cmap=\"gray\")\n",
    "        elif activation_min !=-1:\n",
    "            plt.imshow(activation[0,:,:, featuremap], interpolation=\"nearest\", vmin=activation_min, cmap=\"gray\")\n",
    "        else:\n",
    "            plt.imshow(activation[0,:,:, featuremap], interpolation=\"nearest\", cmap=\"gray\")"
   ]
  },
  {
   "cell_type": "code",
   "execution_count": null,
   "metadata": {
    "collapsed": true
   },
   "outputs": [],
   "source": []
  },
  {
   "cell_type": "code",
   "execution_count": null,
   "metadata": {
    "collapsed": true
   },
   "outputs": [],
   "source": []
  }
 ],
 "metadata": {
  "anaconda-cloud": {},
  "kernelspec": {
   "display_name": "Python 3",
   "language": "python",
   "name": "python3"
  },
  "language_info": {
   "codemirror_mode": {
    "name": "ipython",
    "version": 3
   },
   "file_extension": ".py",
   "mimetype": "text/x-python",
   "name": "python",
   "nbconvert_exporter": "python",
   "pygments_lexer": "ipython3",
   "version": "3.5.2"
  },
  "widgets": {
   "state": {},
   "version": "1.1.2"
  }
 },
 "nbformat": 4,
 "nbformat_minor": 1
}
